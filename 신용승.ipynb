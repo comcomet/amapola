{
  "nbformat": 4,
  "nbformat_minor": 0,
  "metadata": {
    "colab": {
      "name": "신용승.ipynb",
      "version": "0.3.2",
      "provenance": [],
      "include_colab_link": true
    },
    "kernelspec": {
      "name": "python3",
      "display_name": "Python 3"
    }
  },
  "cells": [
    {
      "cell_type": "markdown",
      "metadata": {
        "id": "view-in-github",
        "colab_type": "text"
      },
      "source": [
        "<a href=\"https://colab.research.google.com/github/comcomet/amapola/blob/master/%EC%8B%A0%EC%9A%A9%EC%8A%B9.ipynb\" target=\"_parent\"><img src=\"https://colab.research.google.com/assets/colab-badge.svg\" alt=\"Open In Colab\"/></a>"
      ]
    },
    {
      "cell_type": "markdown",
      "metadata": {
        "id": "9pXv3kyrPHrr",
        "colab_type": "text"
      },
      "source": [
        "#리스트"
      ]
    },
    {
      "cell_type": "markdown",
      "metadata": {
        "id": "OcpxUPkuPiSl",
        "colab_type": "text"
      },
      "source": [
        "##리스트란\n",
        "리스트는 여러값을 담을수 있는 변수입니다."
      ]
    },
    {
      "cell_type": "markdown",
      "metadata": {
        "id": "kfHb_bSCP8ug",
        "colab_type": "text"
      },
      "source": [
        "###1. 리스트 만들기\n",
        "방법은 2가지"
      ]
    },
    {
      "cell_type": "markdown",
      "metadata": {
        "id": "5hVUpW81QQAs",
        "colab_type": "text"
      },
      "source": [
        "####방법 1"
      ]
    },
    {
      "cell_type": "code",
      "metadata": {
        "id": "mHCGzNbuQhO6",
        "colab_type": "code",
        "colab": {}
      },
      "source": [
        "#list1 이라는 빈 리스트를 만들어 보겠습니다\n",
        "list1 = []"
      ],
      "execution_count": 0,
      "outputs": []
    },
    {
      "cell_type": "code",
      "metadata": {
        "id": "sJg4pl8LQuxz",
        "colab_type": "code",
        "colab": {
          "base_uri": "https://localhost:8080/",
          "height": 34
        },
        "outputId": "01f4f9b3-7042-4ed1-d3f0-1131887321db"
      },
      "source": [
        "print(list1)"
      ],
      "execution_count": 2,
      "outputs": [
        {
          "output_type": "stream",
          "text": [
            "[]\n"
          ],
          "name": "stdout"
        }
      ]
    },
    {
      "cell_type": "code",
      "metadata": {
        "id": "mieM4xrFQ1eb",
        "colab_type": "code",
        "colab": {}
      },
      "source": [
        "#'철수'와 True를  넣어서...\n",
        "list2 =['철수',True]"
      ],
      "execution_count": 0,
      "outputs": []
    },
    {
      "cell_type": "code",
      "metadata": {
        "id": "sI8opVS5ROsR",
        "colab_type": "code",
        "colab": {
          "base_uri": "https://localhost:8080/",
          "height": 34
        },
        "outputId": "bebb4122-4817-4981-a157-0b5f636b3a7a"
      },
      "source": [
        "print(list2)"
      ],
      "execution_count": 5,
      "outputs": [
        {
          "output_type": "stream",
          "text": [
            "['철수', True]\n"
          ],
          "name": "stdout"
        }
      ]
    },
    {
      "cell_type": "markdown",
      "metadata": {
        "id": "f8UMBkBHRyqX",
        "colab_type": "text"
      },
      "source": [
        "####방법2\n"
      ]
    },
    {
      "cell_type": "code",
      "metadata": {
        "id": "Od4PVct3R76k",
        "colab_type": "code",
        "colab": {
          "base_uri": "https://localhost:8080/",
          "height": 34
        },
        "outputId": "346035c5-bf23-4eb8-f00a-1cb8c501fef2"
      },
      "source": [
        "list3 = list()\n",
        "list3.append('3')\n",
        "print(list3)"
      ],
      "execution_count": 8,
      "outputs": [
        {
          "output_type": "stream",
          "text": [
            "['3']\n"
          ],
          "name": "stdout"
        }
      ]
    },
    {
      "cell_type": "code",
      "metadata": {
        "id": "SFhoup2WS28h",
        "colab_type": "code",
        "colab": {}
      },
      "source": [
        "list4 = list([1,'철수', True])"
      ],
      "execution_count": 0,
      "outputs": []
    },
    {
      "cell_type": "code",
      "metadata": {
        "id": "13Ode4yzUrOk",
        "colab_type": "code",
        "colab": {
          "base_uri": "https://localhost:8080/",
          "height": 34
        },
        "outputId": "38c7d702-e0ec-440b-9256-9465ed1f10a1"
      },
      "source": [
        "print(list4)"
      ],
      "execution_count": 11,
      "outputs": [
        {
          "output_type": "stream",
          "text": [
            "[1, '철수', True]\n"
          ],
          "name": "stdout"
        }
      ]
    },
    {
      "cell_type": "code",
      "metadata": {
        "id": "RgLCWnjAU3ZX",
        "colab_type": "code",
        "colab": {}
      },
      "source": [
        ""
      ],
      "execution_count": 0,
      "outputs": []
    }
  ]
}